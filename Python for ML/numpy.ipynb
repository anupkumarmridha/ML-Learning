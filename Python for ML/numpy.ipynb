{
 "cells": [
  {
   "cell_type": "code",
   "execution_count": 9,
   "id": "748f69dd-d752-4081-ae74-2bdb5988b2c8",
   "metadata": {},
   "outputs": [],
   "source": [
    "import numpy as np"
   ]
  },
  {
   "cell_type": "code",
   "execution_count": 2,
   "id": "c4fca9f5-9d91-421c-a499-dce1253ac2c7",
   "metadata": {},
   "outputs": [],
   "source": [
    "lst=[1,2,3]"
   ]
  },
  {
   "cell_type": "code",
   "execution_count": 3,
   "id": "44084eb1-8443-4d0c-8e8f-7c5b12bcf5bb",
   "metadata": {},
   "outputs": [],
   "source": [
    "arr=np.array(lst)"
   ]
  },
  {
   "cell_type": "code",
   "execution_count": 4,
   "id": "95a3ee3b-1b34-4bc2-90f2-dc2143e07ea3",
   "metadata": {},
   "outputs": [
    {
     "data": {
      "text/plain": [
       "list"
      ]
     },
     "execution_count": 4,
     "metadata": {},
     "output_type": "execute_result"
    }
   ],
   "source": [
    "type(lst)"
   ]
  },
  {
   "cell_type": "code",
   "execution_count": 5,
   "id": "edf52e42-9b51-4512-b40b-1d853065a658",
   "metadata": {},
   "outputs": [
    {
     "data": {
      "text/plain": [
       "numpy.ndarray"
      ]
     },
     "execution_count": 5,
     "metadata": {},
     "output_type": "execute_result"
    }
   ],
   "source": [
    "type(arr)"
   ]
  },
  {
   "cell_type": "code",
   "execution_count": 6,
   "id": "d000603c-aa4c-4a36-a71d-16518d2e3fdd",
   "metadata": {},
   "outputs": [],
   "source": [
    "lst.append(4)"
   ]
  },
  {
   "cell_type": "code",
   "execution_count": 7,
   "id": "0b795024-64fb-465b-af12-78818df1c9ab",
   "metadata": {},
   "outputs": [
    {
     "data": {
      "text/plain": [
       "[1, 2, 3, 4]"
      ]
     },
     "execution_count": 7,
     "metadata": {},
     "output_type": "execute_result"
    }
   ],
   "source": [
    "lst"
   ]
  },
  {
   "cell_type": "code",
   "execution_count": 8,
   "id": "ee8ed9ad-2b91-439d-b112-874a78cf1a67",
   "metadata": {},
   "outputs": [
    {
     "ename": "AttributeError",
     "evalue": "'numpy.ndarray' object has no attribute 'append'",
     "output_type": "error",
     "traceback": [
      "\u001b[0;31m---------------------------------------------------------------------------\u001b[0m",
      "\u001b[0;31mAttributeError\u001b[0m                            Traceback (most recent call last)",
      "Cell \u001b[0;32mIn[8], line 1\u001b[0m\n\u001b[0;32m----> 1\u001b[0m \u001b[43marr\u001b[49m\u001b[38;5;241;43m.\u001b[39;49m\u001b[43mappend\u001b[49m(\u001b[38;5;241m4\u001b[39m)\n",
      "\u001b[0;31mAttributeError\u001b[0m: 'numpy.ndarray' object has no attribute 'append'"
     ]
    }
   ],
   "source": [
    "arr.append(4)"
   ]
  },
  {
   "cell_type": "code",
   "execution_count": null,
   "id": "9319fc56-2e24-46bc-867c-a32c4c6b9a78",
   "metadata": {},
   "outputs": [],
   "source": [
    "arr+np.array([4])"
   ]
  },
  {
   "cell_type": "code",
   "execution_count": null,
   "id": "451d0bea-0cb9-4681-b2bc-ece45aca16d2",
   "metadata": {},
   "outputs": [],
   "source": [
    "arr+np.array([4,5,6])"
   ]
  },
  {
   "cell_type": "code",
   "execution_count": null,
   "id": "12dc2350-a3e8-434d-9148-56f1c54c9035",
   "metadata": {},
   "outputs": [],
   "source": [
    "arr+np.array([4,5])"
   ]
  },
  {
   "cell_type": "code",
   "execution_count": null,
   "id": "3e100ec2-bf58-42fe-9be8-d32391f18dfd",
   "metadata": {},
   "outputs": [],
   "source": [
    "2*arr"
   ]
  },
  {
   "cell_type": "code",
   "execution_count": null,
   "id": "a617fabf-3969-48c2-9ac0-b081ff11af90",
   "metadata": {},
   "outputs": [],
   "source": [
    "2*lst"
   ]
  },
  {
   "cell_type": "code",
   "execution_count": null,
   "id": "eec5ea18-9532-4775-a704-b9e2af2e0b85",
   "metadata": {},
   "outputs": [],
   "source": [
    "lst+lst"
   ]
  },
  {
   "cell_type": "code",
   "execution_count": null,
   "id": "329b096e-4de1-4bf8-8d3c-48b42ceab38a",
   "metadata": {},
   "outputs": [],
   "source": [
    "lst2=[]\n",
    "for e in lst:\n",
    "    lst2.append(e+3)"
   ]
  },
  {
   "cell_type": "code",
   "execution_count": null,
   "id": "67184f93-0951-4241-baf5-eec8d5485941",
   "metadata": {},
   "outputs": [],
   "source": [
    "lst2=[3+e for e in lst]"
   ]
  },
  {
   "cell_type": "code",
   "execution_count": null,
   "id": "8960aa50-9c9e-421e-8cd4-ffeeb0973fde",
   "metadata": {},
   "outputs": [],
   "source": [
    "lst2"
   ]
  },
  {
   "cell_type": "code",
   "execution_count": null,
   "id": "602b1da7-416b-424a-8216-d07ddffe5e45",
   "metadata": {},
   "outputs": [],
   "source": [
    "lst3=[2**e for e in lst]"
   ]
  },
  {
   "cell_type": "code",
   "execution_count": null,
   "id": "a1c3a705-93fd-46a4-9e5d-4b9f511f02ae",
   "metadata": {},
   "outputs": [],
   "source": [
    "lst3"
   ]
  },
  {
   "cell_type": "code",
   "execution_count": null,
   "id": "b5a289f6-0ec3-4dc5-b761-0727cae32636",
   "metadata": {},
   "outputs": [],
   "source": [
    "arr2=arr**2\n",
    "arr2"
   ]
  },
  {
   "cell_type": "code",
   "execution_count": null,
   "id": "390f57fc-6098-43e6-93af-dfed3565fd2f",
   "metadata": {},
   "outputs": [],
   "source": [
    "np.sqrt(arr2)"
   ]
  },
  {
   "cell_type": "code",
   "execution_count": null,
   "id": "707e2904-27e4-4ac4-9654-92b1375601be",
   "metadata": {},
   "outputs": [],
   "source": [
    "np.log(arr2)"
   ]
  },
  {
   "cell_type": "code",
   "execution_count": null,
   "id": "6591e6d6-a899-46be-9855-df716ef68e25",
   "metadata": {},
   "outputs": [],
   "source": [
    "np.exp(arr2)"
   ]
  },
  {
   "cell_type": "code",
   "execution_count": null,
   "id": "1374831c-40fe-4c4b-9e0b-25ee5bd83785",
   "metadata": {},
   "outputs": [],
   "source": [
    "np.tanh(arr2)"
   ]
  },
  {
   "cell_type": "code",
   "execution_count": null,
   "id": "2eed3ba2-8bf7-45b8-bd22-e646abf744a1",
   "metadata": {},
   "outputs": [],
   "source": [
    "my_mat=[[1,2,3],[4,5,6],[7,8,9]]\n",
    "my_mat"
   ]
  },
  {
   "cell_type": "code",
   "execution_count": null,
   "id": "4be64e76-9afc-4553-baf9-a3a7a0583c0b",
   "metadata": {},
   "outputs": [],
   "source": [
    "np.array(my_mat)"
   ]
  },
  {
   "cell_type": "code",
   "execution_count": null,
   "id": "1f06cc00-86b3-495a-8e39-ce3e79629c82",
   "metadata": {},
   "outputs": [],
   "source": [
    "np.arange(0,11,2)"
   ]
  },
  {
   "cell_type": "code",
   "execution_count": null,
   "id": "38f5e744-360e-4169-a8c6-0764af2a14f0",
   "metadata": {},
   "outputs": [],
   "source": [
    "# fills with zeros in 2d matrix\n",
    "np.zeros((3,5))"
   ]
  },
  {
   "cell_type": "code",
   "execution_count": null,
   "id": "3ef2a624-8621-4dd1-b5bc-9a6b29c74ccb",
   "metadata": {},
   "outputs": [],
   "source": [
    "# fills with ones in 2d matrix\n",
    "np.ones((4,5,))"
   ]
  },
  {
   "cell_type": "code",
   "execution_count": null,
   "id": "057ee888-0ea2-4ed5-b458-3eb43a6de117",
   "metadata": {},
   "outputs": [],
   "source": [
    "# Return evenly spaced numbers over a specified interval.\n",
    "\n",
    "# Returns `num` evenly spaced samples, calculated over the\n",
    "# interval [`start`, `stop`].\n",
    "\n",
    "np.linspace(0,10,5)"
   ]
  },
  {
   "cell_type": "code",
   "execution_count": null,
   "id": "4d5fa1b3-17ee-4eac-a89c-3dea80d0c92f",
   "metadata": {},
   "outputs": [],
   "source": [
    "#Identity matrix\n",
    "np.eye(4) "
   ]
  },
  {
   "cell_type": "code",
   "execution_count": null,
   "id": "f53876d7-2795-4f5e-859b-d594ed6d4291",
   "metadata": {},
   "outputs": [],
   "source": [
    "# Create an array of the given shape and populate it with\n",
    "# random samples from a uniform distribution\n",
    "# over ``[0, 1)``.\n",
    "\n",
    "np.random.rand(5)"
   ]
  },
  {
   "cell_type": "code",
   "execution_count": null,
   "id": "b4729f81-edfd-4d2e-a507-5e8998168b9c",
   "metadata": {},
   "outputs": [],
   "source": [
    "np.random.rand(5,5)"
   ]
  },
  {
   "cell_type": "code",
   "execution_count": null,
   "id": "293d0726-e487-4892-8c8b-72093f4bee5c",
   "metadata": {},
   "outputs": [],
   "source": [
    "# Return a sample (or samples) from the \"standard normal\" distribution.\n",
    "\n",
    "np.random.randn(5)"
   ]
  },
  {
   "cell_type": "code",
   "execution_count": null,
   "id": "bd85f1ea-2bb7-4c28-969a-b507f0d7fb97",
   "metadata": {},
   "outputs": [],
   "source": [
    "np.random.randn(5,5)"
   ]
  },
  {
   "cell_type": "code",
   "execution_count": null,
   "id": "5ed2638d-aa8e-43bc-847d-34e4661fd1a3",
   "metadata": {},
   "outputs": [],
   "source": [
    "np.random.randint(1,100)"
   ]
  },
  {
   "cell_type": "code",
   "execution_count": null,
   "id": "d6da506c-04e7-4805-bfb3-e167ae817813",
   "metadata": {},
   "outputs": [],
   "source": [
    "# randint(low, high=None, size=None, dtype=int)\n",
    "\n",
    "# Return random integers from `low` (inclusive) to `high` (exclusive).\n",
    "\n",
    "np.random.randint(1,100, 10)\n"
   ]
  },
  {
   "cell_type": "code",
   "execution_count": null,
   "id": "18cf6656-e073-40cd-8c21-451978641602",
   "metadata": {},
   "outputs": [],
   "source": [
    "arr2=np.arange(25)\n",
    "arr2"
   ]
  },
  {
   "cell_type": "code",
   "execution_count": null,
   "id": "361d5144-9271-41fa-b139-454993125404",
   "metadata": {},
   "outputs": [],
   "source": [
    "ranarr=np.random.randint(0,50,10)"
   ]
  },
  {
   "cell_type": "code",
   "execution_count": null,
   "id": "d1564f2b-e009-46be-91ca-6f86db9486f4",
   "metadata": {},
   "outputs": [],
   "source": [
    "ranarr"
   ]
  },
  {
   "cell_type": "code",
   "execution_count": null,
   "id": "a20d7a59-44fd-4090-bdc6-2fddcaaa1bb8",
   "metadata": {},
   "outputs": [],
   "source": [
    "# Returns an array containing the same data with a new shape.\n",
    "\n",
    "arr2=arr2.reshape(5,5)\n",
    "arr2"
   ]
  },
  {
   "cell_type": "code",
   "execution_count": null,
   "id": "9ebcfce3-87ba-44f8-9093-6ccd3b6bff21",
   "metadata": {},
   "outputs": [],
   "source": [
    "# Return the maximum along a given axis.\n",
    "arr2.max()"
   ]
  },
  {
   "cell_type": "code",
   "execution_count": null,
   "id": "614ea74d-98d0-4c4e-b3cb-c318132c8a06",
   "metadata": {},
   "outputs": [],
   "source": [
    "arr2.max(0)"
   ]
  },
  {
   "cell_type": "code",
   "execution_count": null,
   "id": "c8b9ed35-86b1-4c99-bfd2-56433d87fd6d",
   "metadata": {},
   "outputs": [],
   "source": [
    "arr2.max(1)"
   ]
  },
  {
   "cell_type": "code",
   "execution_count": null,
   "id": "e1a2676b-5578-4aa8-868a-61b651668c3b",
   "metadata": {},
   "outputs": [],
   "source": [
    "# Return the minimum along a given axis.\n",
    "arr2.min()"
   ]
  },
  {
   "cell_type": "code",
   "execution_count": null,
   "id": "39893a96-0e5b-461c-95aa-ffed71a9053c",
   "metadata": {},
   "outputs": [],
   "source": [
    "arr2.min()"
   ]
  },
  {
   "cell_type": "code",
   "execution_count": null,
   "id": "8c5e534c-0c89-4071-bd1b-4ef4eb88008d",
   "metadata": {},
   "outputs": [],
   "source": [
    "arr2.min(0)"
   ]
  },
  {
   "cell_type": "code",
   "execution_count": null,
   "id": "b980ca78-0506-4fe7-b5fb-cd159b0c5d5d",
   "metadata": {},
   "outputs": [],
   "source": [
    "arr2.min(1)"
   ]
  },
  {
   "cell_type": "code",
   "execution_count": null,
   "id": "de3ed4bb-0da3-4f2c-acff-eddacd3badae",
   "metadata": {},
   "outputs": [],
   "source": [
    "arr"
   ]
  },
  {
   "cell_type": "code",
   "execution_count": null,
   "id": "81956ac5-1204-408d-805b-26fb50b2383b",
   "metadata": {},
   "outputs": [],
   "source": [
    "arr.max(1)"
   ]
  },
  {
   "cell_type": "code",
   "execution_count": null,
   "id": "6a0f51d0-30c5-49ca-a015-660cc44d20a2",
   "metadata": {},
   "outputs": [],
   "source": [
    "# Return indices of the maximum values along the given axis.\n",
    "arr.argmax()"
   ]
  },
  {
   "cell_type": "code",
   "execution_count": null,
   "id": "c6561fa3-07b6-47a5-bcd9-82a2b8c7721f",
   "metadata": {},
   "outputs": [],
   "source": [
    "arr.argmin()"
   ]
  },
  {
   "cell_type": "code",
   "execution_count": null,
   "id": "cd877535-9bde-490c-9d1b-a029d1d70678",
   "metadata": {},
   "outputs": [],
   "source": [
    "arr.shape"
   ]
  },
  {
   "cell_type": "code",
   "execution_count": null,
   "id": "f7e4b43e-b386-4d6c-b8f7-945f0c3ce7b2",
   "metadata": {},
   "outputs": [],
   "source": [
    "arr2.shape"
   ]
  },
  {
   "cell_type": "markdown",
   "id": "1f5a181d-5dd2-49ef-940e-2ee9bcb8b571",
   "metadata": {},
   "source": [
    "# Numpay indexing and selection"
   ]
  },
  {
   "cell_type": "code",
   "execution_count": null,
   "id": "6c526ff5-6c8e-400d-92fb-f390723b2463",
   "metadata": {},
   "outputs": [],
   "source": [
    "arr=np.arange(0,11)"
   ]
  },
  {
   "cell_type": "code",
   "execution_count": null,
   "id": "609702ba-9300-412e-9393-4873b347785c",
   "metadata": {},
   "outputs": [],
   "source": [
    "arr"
   ]
  },
  {
   "cell_type": "code",
   "execution_count": null,
   "id": "d7709819-9e1a-4e8e-99f6-1f3473ad1ce1",
   "metadata": {},
   "outputs": [],
   "source": [
    "arr[8]"
   ]
  },
  {
   "cell_type": "code",
   "execution_count": null,
   "id": "bf66a935-8c12-4b02-8f8b-0dc5926d9835",
   "metadata": {},
   "outputs": [],
   "source": [
    "arr[1:4]"
   ]
  },
  {
   "cell_type": "code",
   "execution_count": null,
   "id": "a6a52b78-ffb0-4861-8299-42e3ce94a608",
   "metadata": {},
   "outputs": [],
   "source": [
    "arr[0:5]"
   ]
  },
  {
   "cell_type": "code",
   "execution_count": null,
   "id": "7a1b3456-95e1-464e-90fb-2ed90658bd4c",
   "metadata": {},
   "outputs": [],
   "source": [
    "arr[:6]"
   ]
  },
  {
   "cell_type": "code",
   "execution_count": null,
   "id": "628c9af2-fc65-4cae-9043-bd2d14b45e45",
   "metadata": {},
   "outputs": [],
   "source": [
    "arr[1:]"
   ]
  },
  {
   "cell_type": "code",
   "execution_count": null,
   "id": "1833cf55-3aa4-4e44-96f1-9d9e1e187d74",
   "metadata": {},
   "outputs": [],
   "source": [
    "arr[:]"
   ]
  },
  {
   "cell_type": "code",
   "execution_count": null,
   "id": "80c98b5f-b9f8-44ee-9741-c04517d0266d",
   "metadata": {},
   "outputs": [],
   "source": [
    "arr[:-2]"
   ]
  },
  {
   "cell_type": "code",
   "execution_count": null,
   "id": "470ec899-af12-4679-9bc0-5ad46189ec09",
   "metadata": {},
   "outputs": [],
   "source": [
    "arr[-1:]"
   ]
  },
  {
   "cell_type": "code",
   "execution_count": null,
   "id": "e65f72b6-f733-4c6b-aaf6-64852fa5d5d1",
   "metadata": {},
   "outputs": [],
   "source": [
    "arr[0:5]=100\n",
    "arr"
   ]
  },
  {
   "cell_type": "code",
   "execution_count": null,
   "id": "d8e7697d-fd0e-44a7-b8d4-a545975fd40d",
   "metadata": {},
   "outputs": [],
   "source": [
    "arr=np.arange(0,11)"
   ]
  },
  {
   "cell_type": "code",
   "execution_count": null,
   "id": "28c785e1-dcae-4198-9b37-0cfcf74744c3",
   "metadata": {},
   "outputs": [],
   "source": [
    "arr1=arr[:]"
   ]
  },
  {
   "cell_type": "code",
   "execution_count": null,
   "id": "eb42dc9e-305e-4861-b315-466a0ed7cf91",
   "metadata": {},
   "outputs": [],
   "source": [
    "arr1"
   ]
  },
  {
   "cell_type": "code",
   "execution_count": null,
   "id": "6ef506c3-3c6a-47c4-9d0f-e348debd9ab1",
   "metadata": {},
   "outputs": [],
   "source": [
    "arr"
   ]
  },
  {
   "cell_type": "code",
   "execution_count": null,
   "id": "180e1b0a-3cd9-49be-a26d-3f43aaa8ff77",
   "metadata": {},
   "outputs": [],
   "source": [
    "arr1[0:5]=100"
   ]
  },
  {
   "cell_type": "code",
   "execution_count": null,
   "id": "7b6fefdb-039b-4e19-9ba1-a8b8c1a0955d",
   "metadata": {},
   "outputs": [],
   "source": [
    "arr1"
   ]
  },
  {
   "cell_type": "code",
   "execution_count": null,
   "id": "bbd16086-7d3d-4fc4-ab95-7df4902f9913",
   "metadata": {},
   "outputs": [],
   "source": [
    "arr"
   ]
  },
  {
   "cell_type": "code",
   "execution_count": null,
   "id": "24183f0c-30dd-4607-9577-3336f41660d7",
   "metadata": {},
   "outputs": [],
   "source": [
    "arr3=arr.copy()"
   ]
  },
  {
   "cell_type": "code",
   "execution_count": null,
   "id": "e73fd819-3d7c-4863-8a85-b9c2ab28f317",
   "metadata": {},
   "outputs": [],
   "source": [
    "arr3[0:3]=99"
   ]
  },
  {
   "cell_type": "code",
   "execution_count": null,
   "id": "a1dab6e6-a9a9-47b2-b904-f9741e914e78",
   "metadata": {},
   "outputs": [],
   "source": [
    "arr3"
   ]
  },
  {
   "cell_type": "code",
   "execution_count": null,
   "id": "46951341-ccfc-425f-b67b-1c4a3785ef27",
   "metadata": {},
   "outputs": [],
   "source": [
    "arr1"
   ]
  },
  {
   "cell_type": "code",
   "execution_count": null,
   "id": "d2a4080b-557e-4755-afa5-4dac4d98b9d0",
   "metadata": {},
   "outputs": [],
   "source": [
    "arr"
   ]
  },
  {
   "cell_type": "code",
   "execution_count": null,
   "id": "0fd40916-f0b8-47e0-803b-993cf21ae8a0",
   "metadata": {},
   "outputs": [],
   "source": [
    "arr2d=np.array([[1,2,3],[3,4,5],[6,7,8]])"
   ]
  },
  {
   "cell_type": "code",
   "execution_count": null,
   "id": "f7926b01-ff44-4b5a-be1e-2ae9401167a3",
   "metadata": {},
   "outputs": [],
   "source": [
    "arr2d"
   ]
  },
  {
   "cell_type": "code",
   "execution_count": null,
   "id": "dd7e222f-991a-46a1-be10-1bb31390c200",
   "metadata": {},
   "outputs": [],
   "source": [
    "arr2d[0][1]"
   ]
  },
  {
   "cell_type": "code",
   "execution_count": null,
   "id": "6ec0294c-91ea-4744-842a-2eb63fc559c4",
   "metadata": {},
   "outputs": [],
   "source": [
    "arr2d[0,1]"
   ]
  },
  {
   "cell_type": "code",
   "execution_count": null,
   "id": "caee1791-c183-4404-b71c-f58e1a2c37c6",
   "metadata": {},
   "outputs": [],
   "source": [
    "arr2d[1]"
   ]
  },
  {
   "cell_type": "code",
   "execution_count": null,
   "id": "df35f826-38d0-4eb6-96f7-051b89e64119",
   "metadata": {},
   "outputs": [],
   "source": [
    "arr2d[:2,1:]"
   ]
  },
  {
   "cell_type": "code",
   "execution_count": null,
   "id": "c65592b0-d181-4dec-ac72-9e1e23c59b45",
   "metadata": {},
   "outputs": [],
   "source": [
    "arr2d[:2]"
   ]
  },
  {
   "cell_type": "code",
   "execution_count": null,
   "id": "a7aec134-7fe3-4b7c-aa34-12762931efd6",
   "metadata": {},
   "outputs": [],
   "source": [
    "arr2d[1:]"
   ]
  },
  {
   "cell_type": "code",
   "execution_count": null,
   "id": "ec25965a-3e59-4e04-86f7-0cc22afdea55",
   "metadata": {},
   "outputs": [],
   "source": [
    "arr=np.arange(1,11)"
   ]
  },
  {
   "cell_type": "code",
   "execution_count": null,
   "id": "a526bd84-d799-4c84-b86a-60915f067574",
   "metadata": {},
   "outputs": [],
   "source": []
  },
  {
   "cell_type": "code",
   "execution_count": null,
   "id": "86f3afcd-a25f-4808-8105-33ca676f0d63",
   "metadata": {},
   "outputs": [],
   "source": [
    "arr"
   ]
  },
  {
   "cell_type": "code",
   "execution_count": null,
   "id": "bb925cc2-c0bd-4c13-961b-5d25d3806cf0",
   "metadata": {},
   "outputs": [],
   "source": [
    "arr>5"
   ]
  },
  {
   "cell_type": "code",
   "execution_count": null,
   "id": "1c23d156-ad10-4ee3-963d-6fd741ea3992",
   "metadata": {},
   "outputs": [],
   "source": [
    "bool_arr=arr>5"
   ]
  },
  {
   "cell_type": "code",
   "execution_count": null,
   "id": "e4083398-e977-4979-8134-6d11a5334171",
   "metadata": {},
   "outputs": [],
   "source": [
    "bool_arr"
   ]
  },
  {
   "cell_type": "code",
   "execution_count": null,
   "id": "0162219e-2d0b-427f-a744-0dd2b86ed342",
   "metadata": {},
   "outputs": [],
   "source": [
    "arr[bool_arr]"
   ]
  },
  {
   "cell_type": "code",
   "execution_count": null,
   "id": "db2a7d3a-7bfb-462a-8caa-596fc965607d",
   "metadata": {},
   "outputs": [],
   "source": [
    "arr[arr>5]"
   ]
  },
  {
   "cell_type": "code",
   "execution_count": null,
   "id": "f5aa9e5e-7b3f-4194-ac7d-4ec9ad9a95e4",
   "metadata": {},
   "outputs": [],
   "source": [
    "arr[arr<5]"
   ]
  },
  {
   "cell_type": "code",
   "execution_count": null,
   "id": "0e3ef4ba-f966-49d1-9803-f306ddf67591",
   "metadata": {},
   "outputs": [],
   "source": [
    "arr2d=np.arange(50).reshape(5,10)\n",
    "arr2d"
   ]
  },
  {
   "cell_type": "code",
   "execution_count": null,
   "id": "d4617657-7783-4359-953a-4fc6986188ee",
   "metadata": {},
   "outputs": [],
   "source": [
    "arr2d[1:3,4:6]"
   ]
  },
  {
   "cell_type": "markdown",
   "id": "e98b7d0a-8e41-4c97-8605-e53814ad8091",
   "metadata": {},
   "source": [
    "# Numpy with operations\n",
    "    1. array with array \n",
    "    2. array with scaler\n",
    "    3. universal array function\n",
    "    "
   ]
  },
  {
   "cell_type": "code",
   "execution_count": null,
   "id": "e0dfd71b-1853-4fce-97ab-fd71d9e85c21",
   "metadata": {},
   "outputs": [],
   "source": [
    "arr=np.arange(0,10)"
   ]
  },
  {
   "cell_type": "code",
   "execution_count": null,
   "id": "7eaab0e7-ddcb-4909-8f03-fe02c1bcf2b9",
   "metadata": {},
   "outputs": [],
   "source": [
    "arr"
   ]
  },
  {
   "cell_type": "code",
   "execution_count": null,
   "id": "ae21b51b-c40b-4797-a16b-3c0886778d7b",
   "metadata": {},
   "outputs": [],
   "source": [
    "arr+arr"
   ]
  },
  {
   "cell_type": "code",
   "execution_count": null,
   "id": "71df6b52-0ebd-4bf6-8747-0e4b59572fd3",
   "metadata": {},
   "outputs": [],
   "source": [
    "arr-arr"
   ]
  },
  {
   "cell_type": "code",
   "execution_count": null,
   "id": "70729e5a-e876-403b-bbed-59ef30a08f64",
   "metadata": {},
   "outputs": [],
   "source": [
    "arr*arr"
   ]
  },
  {
   "cell_type": "code",
   "execution_count": null,
   "id": "002db9ca-df65-4853-ab97-2f542a5f77fc",
   "metadata": {},
   "outputs": [],
   "source": [
    "arr/2"
   ]
  },
  {
   "cell_type": "code",
   "execution_count": null,
   "id": "1cba2146-a003-4cf6-a89f-1e4c0871fd16",
   "metadata": {},
   "outputs": [],
   "source": [
    "arr-100"
   ]
  },
  {
   "cell_type": "code",
   "execution_count": null,
   "id": "3e751b3f-a252-4a9b-80e3-39256b7f75ed",
   "metadata": {},
   "outputs": [],
   "source": [
    "arr*70"
   ]
  },
  {
   "cell_type": "code",
   "execution_count": null,
   "id": "353f981e-659e-4fab-aa98-34aaa89d7f31",
   "metadata": {},
   "outputs": [],
   "source": [
    "1/arr"
   ]
  },
  {
   "cell_type": "code",
   "execution_count": null,
   "id": "757d9a84-c041-4b80-aea1-211c48d4de43",
   "metadata": {},
   "outputs": [],
   "source": [
    "arr**3"
   ]
  },
  {
   "cell_type": "code",
   "execution_count": null,
   "id": "5196b6f4-898e-4723-862e-41b741fe5b49",
   "metadata": {},
   "outputs": [],
   "source": [
    "np.sqrt(arr)"
   ]
  },
  {
   "cell_type": "code",
   "execution_count": null,
   "id": "b210aea8-30da-4427-8438-1db00db1b21b",
   "metadata": {},
   "outputs": [],
   "source": [
    "np.exp(arr)"
   ]
  },
  {
   "cell_type": "code",
   "execution_count": null,
   "id": "acc5cb97-cca3-431a-8710-42278e943b46",
   "metadata": {},
   "outputs": [],
   "source": [
    "np.max(arr)"
   ]
  },
  {
   "cell_type": "code",
   "execution_count": null,
   "id": "d2b250b7-c3a9-4e6b-8e9c-f5e7cc6122e2",
   "metadata": {},
   "outputs": [],
   "source": [
    "np.min(arr)"
   ]
  },
  {
   "cell_type": "code",
   "execution_count": null,
   "id": "62443bbf-0bc4-4745-b8f8-0080cc165081",
   "metadata": {},
   "outputs": [],
   "source": [
    "np.sin(arr)"
   ]
  },
  {
   "cell_type": "code",
   "execution_count": null,
   "id": "d6b7ff5c-886f-41fd-a43c-ae4b7b126741",
   "metadata": {},
   "outputs": [],
   "source": [
    "np.cos(arr)"
   ]
  },
  {
   "cell_type": "markdown",
   "id": "515bc96a-8048-43a5-b98a-f16caab696b8",
   "metadata": {},
   "source": [
    "# Dot product"
   ]
  },
  {
   "cell_type": "markdown",
   "id": "544806b2-1f6c-4137-97ae-7fdfa7667336",
   "metadata": {},
   "source": [
    "\n",
    "The dot product of two vectors **A** and **B**, denoted as **A · B**, is defined as:\n",
    "\n",
    "$$\n",
    "\\mathbf{A} \\cdot \\mathbf{B} = \\sum_{i=1}^n A_i B_i = A_1B_1 + A_2B_2 + \\cdots + A_nB_n\n",
    "$$\n"
   ]
  },
  {
   "cell_type": "markdown",
   "id": "09631752-d3cb-4943-a5b4-75f18640cf96",
   "metadata": {},
   "source": [
    "The dot product of two vectors **a** and **b** can also be represented as:\n",
    "\n",
    "$$\n",
    "a \\cdot b = a^T b = \\sum_{d=1}^D a_d b_d\n",
    "$$\n",
    "\n",
    "Where:\n",
    "- \\(a^T\\) is the transpose of vector **a** (a row vector).\n",
    "- \\(b\\) is the column vector.\n",
    "- \\(a_d\\) and \\(b_d\\) are the \\(d\\)-th components of vectors **a** and **b**, respectively.\n",
    "- \\(D\\) is the dimension of the vectors.\n"
   ]
  },
  {
   "cell_type": "markdown",
   "id": "53d2ac2f-8622-4ce0-9b48-4de740767584",
   "metadata": {},
   "source": [
    "### Key Points:\n",
    "- \\(a^T b\\): The dot product can also be viewed as a **matrix multiplication** between a row vector \\(a^T\\) and a column vector \\(b\\).\n",
    "- The summation form $$ (\\sum_{d=1}^D a_d b_d) $$ explicitly computes the dot product by summing the products of corresponding elements.\n",
    "\n",
    "This notation is very common in machine learning and linear algebra. It bridges the gap between **vector operations** and **matrix operations**. 😊"
   ]
  },
  {
   "cell_type": "code",
   "execution_count": null,
   "id": "c50a936b-46e4-418b-93ae-f0d9eb257dae",
   "metadata": {},
   "outputs": [],
   "source": [
    "a=np.array([1,2])\n",
    "b=np.array([3,4])"
   ]
  },
  {
   "cell_type": "code",
   "execution_count": null,
   "id": "de618474-70d4-478d-9b67-90cb6790eef8",
   "metadata": {},
   "outputs": [],
   "source": [
    "dot=0\n",
    "for e, f in zip(a,b):\n",
    "    dot+=e*f\n",
    "dot"
   ]
  },
  {
   "cell_type": "code",
   "execution_count": null,
   "id": "69267675-7426-4651-85de-a73827458485",
   "metadata": {},
   "outputs": [],
   "source": [
    "dot=0\n",
    "for i in range(len(a)):\n",
    "    dot+=a[i]*b[i]\n",
    "dot"
   ]
  },
  {
   "cell_type": "code",
   "execution_count": null,
   "id": "05f2ca55-ec3f-459c-8514-96b79215d006",
   "metadata": {},
   "outputs": [],
   "source": [
    "a*b"
   ]
  },
  {
   "cell_type": "code",
   "execution_count": null,
   "id": "c58330aa-9876-4e14-93a2-86937e29e9d2",
   "metadata": {},
   "outputs": [],
   "source": [
    "np.sum(a*b)"
   ]
  },
  {
   "cell_type": "code",
   "execution_count": null,
   "id": "8c0d3956-030a-4c22-b44d-56d1aa57ecde",
   "metadata": {},
   "outputs": [],
   "source": [
    "(a*b).sum()"
   ]
  },
  {
   "cell_type": "code",
   "execution_count": null,
   "id": "a6a021bc-a469-46f7-b6c6-13151af9c3be",
   "metadata": {},
   "outputs": [],
   "source": [
    "np.dot(a,b)"
   ]
  },
  {
   "cell_type": "code",
   "execution_count": null,
   "id": "9a2d5186-de71-48fc-9449-afc6238aa419",
   "metadata": {},
   "outputs": [],
   "source": [
    "a.dot(b)"
   ]
  },
  {
   "cell_type": "code",
   "execution_count": null,
   "id": "964eb981-3cf4-4101-81e8-ffac83af5e54",
   "metadata": {},
   "outputs": [],
   "source": [
    "a@b"
   ]
  },
  {
   "cell_type": "markdown",
   "id": "29f18cbd-9507-4d2d-9dc4-2bb02b8d86b7",
   "metadata": {},
   "source": [
    "The dot product of two vectors **A** and **B** can also be defined as:\n",
    "\n",
    "$$\n",
    "\\mathbf{A} \\cdot \\mathbf{B} = \\|\\mathbf{A}\\| \\|\\mathbf{B}\\| \\cos(\\theta)\n",
    "$$\n"
   ]
  },
  {
   "cell_type": "markdown",
   "id": "2c2f4d4b-6d1b-4dea-a13e-ee9c4732f7d4",
   "metadata": {},
   "source": [
    "The dot product can also be represented using the relationship between magnitudes and the cosine of the angle between two vectors:\n",
    "\n",
    "$$\n",
    "a^T b = \\|a\\| \\|b\\| \\cos \\theta_{ab}\n",
    "$$\n",
    "\n",
    "Where:\n",
    "- $$ (\\cos \\theta_{ab}) $$ is the cosine of the angle between vectors \\(a\\) and \\(b\\).\n",
    "- The cosine of the angle can be computed as:\n",
    "\n",
    "$$\n",
    "\\cos \\theta_{ab} = \\frac{a^T b}{\\|a\\| \\|b\\|}\n",
    "$$\n",
    "\n",
    "The magnitude of a vector \\(a\\) is defined as:\n",
    "\n",
    "$$\n",
    "\\|a\\| = \\sqrt{\\sum_{d=1}^D a_d^2}\n",
    "$$\n",
    "\n",
    "Where:\n",
    "- $$ \\(a_d) $$ is the \\(d\\)-th component of vector \\(a\\).\n",
    "- \\(D\\) is the dimension of the vector.\n"
   ]
  },
  {
   "cell_type": "code",
   "execution_count": null,
   "id": "5816c633-8034-488c-87af-02b1ff55911f",
   "metadata": {},
   "outputs": [],
   "source": [
    "amag=np.sqrt((a*a).sum())\n",
    "amag"
   ]
  },
  {
   "cell_type": "code",
   "execution_count": null,
   "id": "1175f4d0-1e27-4495-a8e8-cd7442fceb73",
   "metadata": {},
   "outputs": [],
   "source": [
    "np.linalg.norm(a)"
   ]
  },
  {
   "cell_type": "code",
   "execution_count": null,
   "id": "1a14d906-417e-4be2-984a-6c6d7a6bb0e6",
   "metadata": {},
   "outputs": [],
   "source": [
    "cosangle=a.dot(b)/(np.linalg.norm(a)*np.linalg.norm(b))\n",
    "cosangle"
   ]
  },
  {
   "cell_type": "code",
   "execution_count": null,
   "id": "3402f255-6649-4a9e-a82a-80f5b1776d96",
   "metadata": {},
   "outputs": [],
   "source": [
    "angle=np.arccos(cosangle)\n",
    "angle"
   ]
  },
  {
   "cell_type": "markdown",
   "id": "c56e2a8f-957d-416a-8610-57ebfaa5fd70",
   "metadata": {},
   "source": [
    "# Matrix"
   ]
  },
  {
   "cell_type": "code",
   "execution_count": null,
   "id": "226d4ad1-ea02-414e-8844-05e71dfec5c9",
   "metadata": {},
   "outputs": [],
   "source": [
    "lst_a=[[1,2],[3,4]]\n",
    "mat_a=np.array(lst_a)\n",
    "mat_a"
   ]
  },
  {
   "cell_type": "code",
   "execution_count": null,
   "id": "01dab737-4cc4-4318-b3ec-74924506fe5a",
   "metadata": {},
   "outputs": [],
   "source": [
    "mat_a.T"
   ]
  },
  {
   "cell_type": "code",
   "execution_count": null,
   "id": "9813bf48-746c-4326-92c7-51ddc054ab46",
   "metadata": {},
   "outputs": [],
   "source": [
    "np.exp(lst_a)"
   ]
  },
  {
   "cell_type": "code",
   "execution_count": null,
   "id": "951dc6cc-6cbc-4a86-aeb6-e3247fa477ce",
   "metadata": {},
   "outputs": [],
   "source": [
    "np.exp(mat_a)"
   ]
  },
  {
   "cell_type": "code",
   "execution_count": null,
   "id": "5c3e2e1a-ea7d-431d-af7e-95917a8e9c24",
   "metadata": {},
   "outputs": [],
   "source": [
    "lst_b=[[1,2,3],[4,5,6]]\n",
    "mat_b=np.array(lst_b)\n",
    "mat_b"
   ]
  },
  {
   "cell_type": "code",
   "execution_count": null,
   "id": "a98ae7a3-a1b0-49cb-8272-e33466b149af",
   "metadata": {},
   "outputs": [],
   "source": [
    "mat_a.dot(mat_b)"
   ]
  },
  {
   "cell_type": "code",
   "execution_count": null,
   "id": "ed2622e2-0b98-456a-8481-6fc4c5a451ee",
   "metadata": {},
   "outputs": [],
   "source": [
    "mat_a.dot(mat_b.T)"
   ]
  },
  {
   "cell_type": "code",
   "execution_count": null,
   "id": "103e5acd-01b9-4140-a26c-19fd27fb218f",
   "metadata": {},
   "outputs": [],
   "source": [
    "# Compute the determinant of an array.\n",
    "np.linalg.det(mat_a)\n"
   ]
  },
  {
   "cell_type": "code",
   "execution_count": null,
   "id": "11b68a9f-fa2a-436c-8dc8-1c3bb63cc1d3",
   "metadata": {},
   "outputs": [],
   "source": [
    "np.linalg.inv(mat_a)"
   ]
  },
  {
   "cell_type": "code",
   "execution_count": null,
   "id": "e61dee45-f9b8-4eb6-9410-54696d56656d",
   "metadata": {},
   "outputs": [],
   "source": [
    "# We will get identity matrix\n",
    "np.linalg.inv(mat_a).dot(mat_a)"
   ]
  },
  {
   "cell_type": "code",
   "execution_count": null,
   "id": "61b181d3-4c04-460c-a7ce-2f05e25d1046",
   "metadata": {},
   "outputs": [],
   "source": [
    "# Return the sum along diagonals of the array.\n",
    "np.trace(mat_a)"
   ]
  },
  {
   "cell_type": "code",
   "execution_count": null,
   "id": "aca3fc16-206b-4920-b33e-b9248ebfde5e",
   "metadata": {},
   "outputs": [],
   "source": [
    "np.diag(mat_a)"
   ]
  },
  {
   "cell_type": "code",
   "execution_count": null,
   "id": "b1e1bd7f-d828-43b2-bfc8-4340be238486",
   "metadata": {},
   "outputs": [],
   "source": [
    "np.diag([1,4])"
   ]
  },
  {
   "cell_type": "code",
   "execution_count": null,
   "id": "30f78871-82a8-450b-b731-811d66974ae4",
   "metadata": {},
   "outputs": [],
   "source": [
    "# Compute the eigenvalues and right eigenvectors of a square array.\n",
    "np.linalg.eig(mat_a)"
   ]
  },
  {
   "cell_type": "code",
   "execution_count": null,
   "id": "8d200960-85c8-44b1-b4e7-ce2feaba7559",
   "metadata": {},
   "outputs": [],
   "source": [
    "Lam, V=np.linalg.eig(mat_a)"
   ]
  },
  {
   "cell_type": "code",
   "execution_count": null,
   "id": "7088d375-d754-4300-aa7d-b76ae8351ed7",
   "metadata": {},
   "outputs": [],
   "source": [
    "V[:, 0] * Lam[0] == mat_a @ V[:,0]"
   ]
  },
  {
   "cell_type": "code",
   "execution_count": null,
   "id": "c3e846af-462b-4338-9028-47de65f41ce8",
   "metadata": {},
   "outputs": [],
   "source": [
    "V[:, 0] * Lam[0], mat_a @ V[:,0]"
   ]
  },
  {
   "cell_type": "code",
   "execution_count": null,
   "id": "48a30a0e-bc20-4381-97b8-539f2afe8672",
   "metadata": {},
   "outputs": [],
   "source": [
    "# Returns True if two arrays are element-wise equal within a tolerance.\n",
    "np.allclose(V[:, 0] * Lam[0], mat_a @ V[:,0])"
   ]
  },
  {
   "cell_type": "code",
   "execution_count": null,
   "id": "73b24c5c-1811-4907-9075-1101d30cab89",
   "metadata": {},
   "outputs": [],
   "source": [
    "np.allclose(V @ np.diag(Lam), mat_a @ V)"
   ]
  },
  {
   "cell_type": "markdown",
   "id": "2de46129-4409-45d4-bf36-6a4ae673f977",
   "metadata": {},
   "source": [
    "# Solving Linear System"
   ]
  },
  {
   "cell_type": "markdown",
   "id": "14e87a3e-a758-454b-a1a0-9cdf9dbfc581",
   "metadata": {},
   "source": [
    "### Linear Systems: Example Problem\n",
    "\n",
    "The admission fee at a small fair is `$1.50` for children and `$4.00` for adults. On a certain day, 2200 people enter the fair, and $5050 is collected. How many children and how many adults attended?\n",
    "\n",
    "This problem can be represented as a system of linear equations:\n",
    "\n",
    "1. Total number of people:\n",
    "   $$\n",
    "   x_1 + x_2 = 2200\n",
    "   $$\n",
    "\n",
    "2. Total money collected:\n",
    "   $$\n",
    "   1.5x_1 + 4x_2 = 5050\n",
    "   $$\n",
    "\n",
    "Where:\n",
    "- \\(x_1\\) is the number of children.\n",
    "- \\(x_2\\) is the number of adults.\n",
    "\n",
    "We have **2 equations and 2 unknowns** to solve.\n"
   ]
  },
  {
   "cell_type": "markdown",
   "id": "23f8dbb9-3405-403d-b289-256366642a78",
   "metadata": {},
   "source": [
    "### Linear System in Matrix Form\n",
    "\n",
    "The system of equations can be written in matrix form as:\n",
    "\n",
    "$$\n",
    "x = \\begin{pmatrix} x_1 \\\\ x_2 \\end{pmatrix}, \\quad\n",
    "A = \\begin{pmatrix} 1 & 1 \\\\ 1.5 & 4 \\end{pmatrix}, \\quad\n",
    "b = \\begin{pmatrix} 2200 \\\\ 5050 \\end{pmatrix}\n",
    "$$\n",
    "\n",
    "The system of equations becomes:\n",
    "\n",
    "$$\n",
    "Ax = b \\quad \\iff \\quad x = A^{-1}b\n",
    "$$\n"
   ]
  },
  {
   "cell_type": "markdown",
   "id": "acf6fe40-84e6-4b69-a61e-70268fba5b3c",
   "metadata": {},
   "source": [
    "### Don't do that literally!\n",
    "\n",
    "- The **\"inverse\"** is slower and less accurate.\n",
    "- There are better algorithms to **solve** linear systems.\n",
    "\n",
    "```python\n",
    "# Correct way to solve a linear system\n",
    "x = np.linalg.solve(A, b)  # yes\n",
    "\n",
    "# Incorrect and inefficient way\n",
    "x = np.linalg.inv(A).dot(b)  # no\n"
   ]
  },
  {
   "cell_type": "code",
   "execution_count": 10,
   "id": "0df6490f-676a-488b-a63e-5c2efaf061ed",
   "metadata": {},
   "outputs": [],
   "source": [
    "A=np.array([[1,1],[1.5,4]])\n",
    "b=np.array([2200,5050])"
   ]
  },
  {
   "cell_type": "code",
   "execution_count": 11,
   "id": "d1dc8cc2-b087-42a6-ac49-c4f530039d3f",
   "metadata": {},
   "outputs": [],
   "source": [
    "x=np.linalg.solve(A,b)"
   ]
  },
  {
   "cell_type": "code",
   "execution_count": 12,
   "id": "c3482427-a004-4bf6-88c3-b6485e8359f4",
   "metadata": {},
   "outputs": [
    {
     "data": {
      "text/plain": [
       "array([1500.,  700.])"
      ]
     },
     "execution_count": 12,
     "metadata": {},
     "output_type": "execute_result"
    }
   ],
   "source": [
    "x"
   ]
  },
  {
   "cell_type": "code",
   "execution_count": 13,
   "id": "7f1ac8eb-aa98-4f98-be3b-aec06c561930",
   "metadata": {},
   "outputs": [
    {
     "data": {
      "text/plain": [
       "array([1500.,  700.])"
      ]
     },
     "execution_count": 13,
     "metadata": {},
     "output_type": "execute_result"
    }
   ],
   "source": [
    "x = np.linalg.inv(A).dot(b)\n",
    "x"
   ]
  },
  {
   "cell_type": "markdown",
   "id": "2b5722fa-b8e9-455a-a6da-2e61bdc8d34a",
   "metadata": {},
   "source": [
    "# Genrating Data"
   ]
  },
  {
   "cell_type": "code",
   "execution_count": 14,
   "id": "d8c58673-f109-461d-b695-808603173778",
   "metadata": {},
   "outputs": [],
   "source": [
    "R=np.random.randn(10000)"
   ]
  },
  {
   "cell_type": "code",
   "execution_count": 15,
   "id": "2ae9b63b-8fdd-42e9-9a02-f12b032e6a71",
   "metadata": {},
   "outputs": [
    {
     "data": {
      "text/plain": [
       "np.float64(-0.011238369579992453)"
      ]
     },
     "execution_count": 15,
     "metadata": {},
     "output_type": "execute_result"
    }
   ],
   "source": [
    "R.mean()"
   ]
  },
  {
   "cell_type": "code",
   "execution_count": 16,
   "id": "4cd7a6cc-a8f3-4a94-90c5-1e858c2fa0be",
   "metadata": {},
   "outputs": [
    {
     "data": {
      "text/plain": [
       "np.float64(-0.011238369579992453)"
      ]
     },
     "execution_count": 16,
     "metadata": {},
     "output_type": "execute_result"
    }
   ],
   "source": [
    "np.mean(R)"
   ]
  },
  {
   "cell_type": "code",
   "execution_count": 17,
   "id": "98c8c811-09f6-4cd1-88b6-91c943b47886",
   "metadata": {},
   "outputs": [
    {
     "data": {
      "text/plain": [
       "np.float64(0.9979892337805853)"
      ]
     },
     "execution_count": 17,
     "metadata": {},
     "output_type": "execute_result"
    }
   ],
   "source": [
    "R.var()"
   ]
  },
  {
   "cell_type": "code",
   "execution_count": 18,
   "id": "1bd6eddb-a908-4bce-809a-581c3b8eda35",
   "metadata": {},
   "outputs": [],
   "source": [
    "R=np.random.randn(10000, 3)"
   ]
  },
  {
   "cell_type": "code",
   "execution_count": 20,
   "id": "7f584030-e776-4eb1-b3da-43c2117f09df",
   "metadata": {},
   "outputs": [
    {
     "data": {
      "text/plain": [
       "array([ 0.36305266, -0.50281045,  1.17861318, ..., -0.64470507,\n",
       "        0.49387034,  0.23912559], shape=(10000,))"
      ]
     },
     "execution_count": 20,
     "metadata": {},
     "output_type": "execute_result"
    }
   ],
   "source": [
    "R.mean(axis=1)"
   ]
  },
  {
   "cell_type": "code",
   "execution_count": 22,
   "id": "27d70187-d934-4e72-a69b-dfa1d98ccdd6",
   "metadata": {},
   "outputs": [
    {
     "data": {
      "text/plain": [
       "(10000, 10000)"
      ]
     },
     "execution_count": 22,
     "metadata": {},
     "output_type": "execute_result"
    }
   ],
   "source": [
    "np.cov(R).shape"
   ]
  },
  {
   "cell_type": "code",
   "execution_count": 27,
   "id": "086c3629-3ae8-4d52-845b-f588fba0803d",
   "metadata": {},
   "outputs": [
    {
     "data": {
      "text/plain": [
       "array([[ 1.01558747e+00, -8.94566849e-03, -8.68612545e-03],\n",
       "       [-8.94566849e-03,  1.01572606e+00, -4.93703996e-06],\n",
       "       [-8.68612545e-03, -4.93703996e-06,  9.87697227e-01]])"
      ]
     },
     "execution_count": 27,
     "metadata": {},
     "output_type": "execute_result"
    }
   ],
   "source": [
    "np.cov(R.T)"
   ]
  },
  {
   "cell_type": "code",
   "execution_count": 26,
   "id": "31c0bc84-52c1-4f1e-bc73-aa8c1c10c663",
   "metadata": {},
   "outputs": [
    {
     "data": {
      "text/plain": [
       "array([[ 1.01558747e+00, -8.94566849e-03, -8.68612545e-03],\n",
       "       [-8.94566849e-03,  1.01572606e+00, -4.93703996e-06],\n",
       "       [-8.68612545e-03, -4.93703996e-06,  9.87697227e-01]])"
      ]
     },
     "execution_count": 26,
     "metadata": {},
     "output_type": "execute_result"
    }
   ],
   "source": [
    "np.cov(R, rowvar=False)"
   ]
  },
  {
   "cell_type": "code",
   "execution_count": 30,
   "id": "5fbf1ecb-baa3-450d-99f6-abe75f6cff68",
   "metadata": {},
   "outputs": [
    {
     "data": {
      "text/plain": [
       "array([[3, 0, 7],\n",
       "       [7, 4, 0],\n",
       "       [4, 2, 0]])"
      ]
     },
     "execution_count": 30,
     "metadata": {},
     "output_type": "execute_result"
    }
   ],
   "source": [
    "np.random.randint(0,10,size=(3,3))"
   ]
  },
  {
   "cell_type": "code",
   "execution_count": 32,
   "id": "ecd6e735-1830-4168-9707-3a6c24f11fef",
   "metadata": {},
   "outputs": [
    {
     "data": {
      "text/plain": [
       "array([[4, 1, 3],\n",
       "       [8, 2, 4],\n",
       "       [0, 6, 4]])"
      ]
     },
     "execution_count": 32,
     "metadata": {},
     "output_type": "execute_result"
    }
   ],
   "source": [
    "np.random.choice(10, size=(3,3))"
   ]
  },
  {
   "cell_type": "code",
   "execution_count": null,
   "id": "9095c1be-ae81-45a7-a9a5-bfd4eaa85b25",
   "metadata": {},
   "outputs": [],
   "source": []
  }
 ],
 "metadata": {
  "kernelspec": {
   "display_name": "Python 3 (ipykernel)",
   "language": "python",
   "name": "python3"
  },
  "language_info": {
   "codemirror_mode": {
    "name": "ipython",
    "version": 3
   },
   "file_extension": ".py",
   "mimetype": "text/x-python",
   "name": "python",
   "nbconvert_exporter": "python",
   "pygments_lexer": "ipython3",
   "version": "3.12.7"
  }
 },
 "nbformat": 4,
 "nbformat_minor": 5
}
